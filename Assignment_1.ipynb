{
 "cells": [
  {
   "cell_type": "markdown",
   "id": "d5ef5cfa",
   "metadata": {},
   "source": [
    "1. In the below elements which of them are values or an expression? eg:- values can be integer or string and expressions will be mathematical operators."
   ]
  },
  {
   "cell_type": "markdown",
   "id": "6192a664",
   "metadata": {},
   "source": [
    "*                      Expression\n",
    "'hello'                Value\n",
    "-87.8                  Value\n",
    "-                      Expression\n",
    "/                      Expression\n",
    "+\t                   Expression\n",
    "6                      Value"
   ]
  },
  {
   "cell_type": "markdown",
   "id": "1488d95c",
   "metadata": {},
   "source": [
    "2. What is the difference between string and variable?"
   ]
  },
  {
   "cell_type": "code",
   "execution_count": null,
   "id": "058f78a0",
   "metadata": {},
   "outputs": [],
   "source": [
    "ANS: String is immutable while variables can be assigned different different values as execution of program continues"
   ]
  },
  {
   "cell_type": "markdown",
   "id": "b490702f",
   "metadata": {},
   "source": [
    "3. Describe three different data types."
   ]
  },
  {
   "cell_type": "code",
   "execution_count": null,
   "id": "a3aa3877",
   "metadata": {},
   "outputs": [],
   "source": [
    "Ans: String, Integer, Float, List, Dictionary, tuple etc."
   ]
  },
  {
   "cell_type": "markdown",
   "id": "2b181b39",
   "metadata": {},
   "source": [
    "4. What is an expression made up of? What do all expressions do?"
   ]
  },
  {
   "cell_type": "code",
   "execution_count": null,
   "id": "2af3a149",
   "metadata": {},
   "outputs": [],
   "source": [
    "Ans: An expression is made up of operators and operands. Every expression evaluates to something: either a number or True/False etc."
   ]
  },
  {
   "cell_type": "markdown",
   "id": "5d26d6e5",
   "metadata": {},
   "source": [
    "5. This assignment statements, like spam = 10. What is the difference between an expression and a statement?"
   ]
  },
  {
   "cell_type": "code",
   "execution_count": null,
   "id": "a35ab968",
   "metadata": {},
   "outputs": [],
   "source": [
    "Ans: An expression evaluates to a result(a number/boolean etc.) but dies not store in any  permanent memory location while a statement like spam = 10 will allocate a memory location and store it permanently."
   ]
  },
  {
   "cell_type": "markdown",
   "id": "2e2fee56",
   "metadata": {},
   "source": [
    "6. After running the following code, what does the variable bacon contain? bacon = 22 ; bacon + 1"
   ]
  },
  {
   "cell_type": "code",
   "execution_count": null,
   "id": "7dd1e1d3",
   "metadata": {},
   "outputs": [],
   "source": [
    "Ans: bacon will still contain 22 as new value 23 has been calculated but not yet assigned to bacon."
   ]
  },
  {
   "cell_type": "markdown",
   "id": "799484c5",
   "metadata": {},
   "source": [
    "7. What should the values of the following two terms be?\n",
    "'spam' + 'spamspam'\n",
    "'spam' * 3"
   ]
  },
  {
   "cell_type": "code",
   "execution_count": null,
   "id": "fcd79b7f",
   "metadata": {},
   "outputs": [],
   "source": [
    "Ans: spamspamspam "
   ]
  },
  {
   "cell_type": "markdown",
   "id": "5e89c24f",
   "metadata": {},
   "source": [
    "8.Why is eggs a valid variable name while 100 is invalid?"
   ]
  },
  {
   "cell_type": "code",
   "execution_count": null,
   "id": "22bb7581",
   "metadata": {},
   "outputs": [],
   "source": [
    "Ans: As python convention variable name can not be numbers or even start with numbers."
   ]
  },
  {
   "cell_type": "markdown",
   "id": "2d7f25ee",
   "metadata": {},
   "source": [
    "9. What three functions can be used to get the integer, floating-point number, or string version of a value?"
   ]
  },
  {
   "cell_type": "markdown",
   "id": "8f3f2226",
   "metadata": {},
   "source": [
    "10.Why does this expression cause an error? How can you fix it?  'I have eaten ' + 99 + ' burritos.'"
   ]
  },
  {
   "cell_type": "code",
   "execution_count": null,
   "id": "9b02deb5",
   "metadata": {},
   "outputs": [],
   "source": [
    "Ans: Here we are trying to concatenate int to string. Outer most quotes are single quotes and inner quotes are also single quotes we can change the sentence to:  \"I have eaten ' + 99 + ' burritos.\"  and error will be gone."
   ]
  }
 ],
 "metadata": {
  "kernelspec": {
   "display_name": "Python 3 (ipykernel)",
   "language": "python",
   "name": "python3"
  },
  "language_info": {
   "codemirror_mode": {
    "name": "ipython",
    "version": 3
   },
   "file_extension": ".py",
   "mimetype": "text/x-python",
   "name": "python",
   "nbconvert_exporter": "python",
   "pygments_lexer": "ipython3",
   "version": "3.9.7"
  }
 },
 "nbformat": 4,
 "nbformat_minor": 5
}
