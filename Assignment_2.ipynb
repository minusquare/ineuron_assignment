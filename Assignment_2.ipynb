{
 "cells": [
  {
   "cell_type": "markdown",
   "id": "00acb419",
   "metadata": {},
   "source": [
    "1.What are the two values of the Boolean data type? How do you write them?"
   ]
  },
  {
   "cell_type": "markdown",
   "id": "b4f082dc",
   "metadata": {},
   "source": [
    "Ans: Two values of boolean data types are True and False and we write them as True and False respectively. They are stored internally as 1 or 0 respectively."
   ]
  },
  {
   "cell_type": "markdown",
   "id": "493d3192",
   "metadata": {},
   "source": [
    "2. What are the three different types of Boolean operators?"
   ]
  },
  {
   "cell_type": "code",
   "execution_count": null,
   "id": "22a3efa1",
   "metadata": {},
   "outputs": [],
   "source": [
    "Ans: Three different types of boolean operators are AND,OR,NOT (Written and, or,not)"
   ]
  },
  {
   "cell_type": "code",
   "execution_count": null,
   "id": "eeca80d3",
   "metadata": {},
   "outputs": [],
   "source": [
    "3. Make a list of each Boolean operator's truth tables (i.e. every possible combination of Boolean values for the operator and what it evaluate ).\n"
   ]
  },
  {
   "cell_type": "code",
   "execution_count": null,
   "id": "ef23b807",
   "metadata": {},
   "outputs": [],
   "source": [
    "ANS: \n",
    "# ------------------------------------  AND operator ---------------------------------------------\n",
    "T and T ->T\n",
    "T and F ->F\n",
    "F and T ->F\n",
    "F and F ->F\n",
    "# ------------------------------------  OR operator ---------------------------------------------\n",
    "T or T ->T\n",
    "T or F ->T\n",
    "F or T ->T\n",
    "F or F ->F\n",
    "# ------------------------------------  NOT operator ---------------------------------------------\n",
    "not T -> F\n",
    "not F -> T"
   ]
  },
  {
   "cell_type": "code",
   "execution_count": null,
   "id": "e0fd976f",
   "metadata": {},
   "outputs": [],
   "source": [
    "4. What are the values of the following expressions?"
   ]
  },
  {
   "cell_type": "code",
   "execution_count": null,
   "id": "44595a11",
   "metadata": {},
   "outputs": [],
   "source": [
    "(5 > 4) and (3 == 5)                    1. False                    \n",
    "not (5 > 4)                             2. False\n",
    "(5 > 4) or (3 == 5)                     3. True\n",
    "not ((5 > 4) or (3 == 5))               4. False\n",
    "(True and True) and (True == False)     5. False\n",
    "(not False) or (not True)               6. True"
   ]
  },
  {
   "cell_type": "code",
   "execution_count": null,
   "id": "ee6fc221",
   "metadata": {},
   "outputs": [],
   "source": [
    "5. What are the six comparison operators?"
   ]
  },
  {
   "cell_type": "code",
   "execution_count": null,
   "id": "9faa96bd",
   "metadata": {},
   "outputs": [],
   "source": [
    "ANS: \n",
    "Greater than >, \n",
    "Less than <, \n",
    "Greater than or equal to >=,\n",
    "Less than or equal to <=,\n",
    "Equal To ==,\n",
    "Not equal to !="
   ]
  },
  {
   "cell_type": "code",
   "execution_count": null,
   "id": "6360d65e",
   "metadata": {},
   "outputs": [],
   "source": [
    "6. How do you tell the difference between the equal to and assignment operators?Describe a condition and when you would use one."
   ]
  },
  {
   "cell_type": "code",
   "execution_count": null,
   "id": "0eb2a273",
   "metadata": {},
   "outputs": [],
   "source": [
    "Equal To is shown by ==\n",
    "Assignment is shown by =\n",
    "Examples: \n",
    "    s1 = 'Raj'   will assign string 'Raj' to variable s1\n",
    "    s2 = 'Kamal' will assign string 'Kamaml' to variable s2\n",
    "    s3 = 'Raj'   will assign string 'Raj' to variable s3\n",
    "s1 == s3 Will compare if s1 and s3 are equal. Here they are so it evaluates to True\n",
    "s1 == s2 Will compare if s1 and s2 are equal. Here they are not so it evaluates to False"
   ]
  },
  {
   "cell_type": "code",
   "execution_count": null,
   "id": "3d86a4a1",
   "metadata": {},
   "outputs": [],
   "source": [
    "7. Identify the three blocks in this code:\n",
    "spam = 0                  \n",
    "if spam == 10:\n",
    "print('eggs')\n",
    "if spam > 5:\n",
    "print('bacon')\n",
    "else:\n",
    "print('ham')\n",
    "print('spam')\n",
    "print('spam')"
   ]
  },
  {
   "cell_type": "code",
   "execution_count": null,
   "id": "b899f5f7",
   "metadata": {},
   "outputs": [],
   "source": [
    "spam = 0      \n",
    "# ----------------------   BLOCK 1 -----------------------------------\n",
    "if spam == 10:\n",
    "    print('eggs')\n",
    "# ----------------------   BLOCK 2 -----------------------------------\n",
    "if spam > 5:\n",
    "    print('bacon')\n",
    "# ----------------------   BLOCK 3 -----------------------------------\n",
    "else:\n",
    "    print('ham')\n",
    "    print('spam')\n",
    "    print('spam')"
   ]
  },
  {
   "cell_type": "code",
   "execution_count": null,
   "id": "2e38fe03",
   "metadata": {},
   "outputs": [],
   "source": [
    "8. Write code that prints Hello if 1 is stored in spam, prints Howdy if 2 is stored in spam, and prints Greetings! if anything else is stored in spam."
   ]
  },
  {
   "cell_type": "code",
   "execution_count": null,
   "id": "f84a1845",
   "metadata": {},
   "outputs": [],
   "source": [
    "spam = int(input())\n",
    "if spam==1:\n",
    "    print('Hello')\n",
    "elif spam ==2:\n",
    "    print('Howdy')\n",
    "else:\n",
    "    print('Greetings')"
   ]
  },
  {
   "cell_type": "code",
   "execution_count": null,
   "id": "65127e61",
   "metadata": {},
   "outputs": [],
   "source": [
    "9.If your programme is stuck in an endless loop, what keys you’ll press"
   ]
  },
  {
   "cell_type": "code",
   "execution_count": null,
   "id": "38b1b1b3",
   "metadata": {},
   "outputs": [],
   "source": [
    "'Interrupt Te Kernel'  escape + I"
   ]
  },
  {
   "cell_type": "code",
   "execution_count": null,
   "id": "429be95f",
   "metadata": {},
   "outputs": [],
   "source": [
    "10. How can you tell the difference between break and continue?"
   ]
  },
  {
   "cell_type": "code",
   "execution_count": null,
   "id": "4af796c6",
   "metadata": {},
   "outputs": [],
   "source": [
    "Ans:\n",
    "break will immediately break the executing loop and control goes to next statement out of loop\n",
    "continue will take the control to the beginning of loop and next iteration of loop begins"
   ]
  },
  {
   "cell_type": "code",
   "execution_count": null,
   "id": "1b91d122",
   "metadata": {},
   "outputs": [],
   "source": [
    "11. In a for loop, what is the difference between range(10), range(0, 10), and range(0, 10, 1)?"
   ]
  },
  {
   "cell_type": "code",
   "execution_count": null,
   "id": "c44ef31f",
   "metadata": {},
   "outputs": [],
   "source": [
    "Ans: All three are same"
   ]
  },
  {
   "cell_type": "code",
   "execution_count": null,
   "id": "45836277",
   "metadata": {},
   "outputs": [],
   "source": [
    "12. Write a short program that prints the numbers 1 to 10 using a for loop. Then write an equivalent program that prints the numbers 1 to 10 using a while loop."
   ]
  },
  {
   "cell_type": "code",
   "execution_count": null,
   "id": "f7af7875",
   "metadata": {},
   "outputs": [],
   "source": [
    "# ------------------------------ for loop --------------------------------\n",
    "for i in range (1,11):\n",
    "    print(i)\n",
    "# ------------------------------ while loop ------------------------------\n",
    "i = 1\n",
    "while i < 11:\n",
    "    print(i)\n",
    "    i+=1"
   ]
  },
  {
   "cell_type": "code",
   "execution_count": null,
   "id": "98301f92",
   "metadata": {},
   "outputs": [],
   "source": [
    "13. If you had a function named bacon() inside a module named spam, how would you call it after importing spam?"
   ]
  },
  {
   "cell_type": "code",
   "execution_count": null,
   "id": "ce1c581e",
   "metadata": {},
   "outputs": [],
   "source": []
  }
 ],
 "metadata": {
  "kernelspec": {
   "display_name": "Python 3 (ipykernel)",
   "language": "python",
   "name": "python3"
  },
  "language_info": {
   "codemirror_mode": {
    "name": "ipython",
    "version": 3
   },
   "file_extension": ".py",
   "mimetype": "text/x-python",
   "name": "python",
   "nbconvert_exporter": "python",
   "pygments_lexer": "ipython3",
   "version": "3.9.7"
  }
 },
 "nbformat": 4,
 "nbformat_minor": 5
}
